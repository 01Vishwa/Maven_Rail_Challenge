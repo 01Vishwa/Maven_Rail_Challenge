{
 "cells": [
  {
   "cell_type": "code",
   "execution_count": 5,
   "metadata": {},
   "outputs": [],
   "source": [
    "import pandas as pd\n",
    "import numpy as np\n",
    "import folium\n",
    "from folium.plugins import HeatMap\n",
    "from geopy.geocoders import Nominatim"
   ]
  },
  {
   "cell_type": "code",
   "execution_count": 6,
   "metadata": {},
   "outputs": [],
   "source": [
    "data=pd.read_csv(\"G:\\\\power bi\\\\Data\\\\railway.csv\")"
   ]
  },
  {
   "cell_type": "code",
   "execution_count": 7,
   "metadata": {},
   "outputs": [],
   "source": [
    "stations = {\n",
    "    \"Birmingham New Street\": 7742,\n",
    "    \"Liverpool Lime Street\": 5022,\n",
    "    \"York\": 4019,\n",
    "    \"Manchester Piccadilly\": 3968,\n",
    "    \"Reading\": 3920,\n",
    "    \"London Euston\": 1567,\n",
    "    \"London St Pancras\": 749,\n",
    "    \"Oxford\": 623,\n",
    "    \"London Paddington\": 351,\n",
    "    \"Leicester\": 337,\n",
    "    \"Sheffield\": 272,\n",
    "    \"Durham\": 258,\n",
    "    \"Leeds\": 255,\n",
    "    \"Peterborough\": 242,\n",
    "    \"Swindon\": 228,\n",
    "    \"Tamworth\": 227,\n",
    "    \"Nuneaton\": 219,\n",
    "    \"Doncaster\": 211,\n",
    "    \"Crewe\": 193,\n",
    "    \"Stafford\": 190,\n",
    "    \"Edinburgh Waverley\": 178,\n",
    "    \"Nottingham\": 158,\n",
    "    \"Edinburgh\": 154,\n",
    "    \"Bristol Temple Meads\": 144,\n",
    "    \"Wolverhampton\": 115,\n",
    "    \"London Kings Cross\": 84,\n",
    "    \"London Waterloo\": 68,\n",
    "    \"Coventry\": 65,\n",
    "    \"Didcot\": 48,\n",
    "    \"Cardiff Central\": 16,\n",
    "    \"Wakefield\": 15,\n",
    "    \"Warrington\": 15\n",
    "}\n",
    "\n",
    "geolocator = Nominatim(user_agent=\"station_heatmap\")\n",
    "\n",
    "def get_lat_lon(station_name):\n",
    "    location = geolocator.geocode(station_name + \", UK\")\n",
    "    return (location.latitude, location.longitude)\n",
    "\n",
    "heat_data = []\n",
    "for station, value in stations.items():\n",
    "    lat, lon = get_lat_lon(station)\n",
    "    heat_data.append([lat, lon, value])\n",
    "\n",
    "map_center = [54.0, -2.0]\n",
    "my_map = folium.Map(location=map_center, zoom_start=6)\n",
    "\n",
    "HeatMap(heat_data).add_to(my_map)\n",
    "\n",
    "my_map.save(\"Arrival_heatmap.html\")"
   ]
  }
 ],
 "metadata": {
  "kernelspec": {
   "display_name": "Python 3",
   "language": "python",
   "name": "python3"
  },
  "language_info": {
   "codemirror_mode": {
    "name": "ipython",
    "version": 3
   },
   "file_extension": ".py",
   "mimetype": "text/x-python",
   "name": "python",
   "nbconvert_exporter": "python",
   "pygments_lexer": "ipython3",
   "version": "3.12.2"
  }
 },
 "nbformat": 4,
 "nbformat_minor": 2
}
